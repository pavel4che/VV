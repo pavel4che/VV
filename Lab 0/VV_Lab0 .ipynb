{
  "nbformat": 4,
  "nbformat_minor": 0,
  "metadata": {
    "colab": {
      "provenance": []
    },
    "kernelspec": {
      "name": "python3",
      "display_name": "Python 3"
    },
    "language_info": {
      "name": "python"
    },
    "accelerator": "GPU",
    "gpuClass": "standard"
  },
  "cells": [
    {
      "cell_type": "code",
      "source": [
        "matrix_size = 200\n",
        "print(\"Size = \", matrix_size, \"x\", matrix_size)\n",
        "perform_matmul(matrix_size)"
      ],
      "metadata": {
        "colab": {
          "base_uri": "https://localhost:8080/"
        },
        "id": "APSP2va4azAM",
        "outputId": "1c51b933-d21f-4002-dbdb-c4235740f76e"
      },
      "execution_count": 7,
      "outputs": [
        {
          "output_type": "stream",
          "name": "stdout",
          "text": [
            "Size =  200 x 200\n",
            "Grid dim:  (7, 7)\n",
            "Block dim:  (32, 32)\n",
            "CPU calculation time:  2.9369559288024902\n",
            "GPU calculation time:  0.00188446044921875\n",
            "Boost:  1558.5129048582996\n"
          ]
        },
        {
          "output_type": "stream",
          "name": "stderr",
          "text": [
            "/usr/local/lib/python3.8/dist-packages/numba/cuda/dispatcher.py:488: NumbaPerformanceWarning: Grid size 49 will likely result in GPU under-utilization due to low occupancy.\n",
            "  warn(NumbaPerformanceWarning(msg))\n"
          ]
        },
        {
          "output_type": "stream",
          "name": "stdout",
          "text": [
            "Matriсes from CPU and GPU are equal:  True\n"
          ]
        }
      ]
    },
    {
      "cell_type": "code",
      "execution_count": 5,
      "metadata": {
        "id": "26HmSTdqamzm"
      },
      "outputs": [],
      "source": [
        "from numba import cuda\n",
        "import time\n",
        "import math\n",
        "import numpy as np\n",
        "\n",
        "\n",
        "def matmul_CPU(a, b, c, size):\n",
        "    for i in range(size):\n",
        "        for j in range(size):\n",
        "            rez = 0\n",
        "\n",
        "            for z in range(size):\n",
        "                rez += a[i, z] * b[z, j]\n",
        "\n",
        "            c[i, j] = rez\n",
        "\n",
        "\n",
        "@cuda.jit\n",
        "def matmul_GPU(a, b, c, size):\n",
        "    for i in range(size):\n",
        "        for j in range(size):\n",
        "            rez = 0\n",
        "\n",
        "            for z in range(size):\n",
        "                rez += a[i, z] * b[z, j]\n",
        "\n",
        "            c[i, j] = rez\n",
        "\n",
        "\n",
        "def perform_matmul(matrix_size):\n",
        "    matrix1 = np.random.randint(0, 10, (matrix_size, matrix_size))\n",
        "    matrix2 = np.random.randint(0, 10, (matrix_size, matrix_size))\n",
        "\n",
        "    matrix1_cuda = cuda.to_device(matrix1)\n",
        "    matrix2_cuda = cuda.to_device(matrix2)\n",
        "\n",
        "    threads_in_block = (32, 32)\n",
        "    grid_in_block_x = int(math.ceil(matrix1.shape[0] / threads_in_block[0]))\n",
        "    grid_in_block_y = int(math.ceil(matrix2.shape[1] / threads_in_block[1]))\n",
        "\n",
        "    blocks_in_grid = (grid_in_block_x, grid_in_block_y)\n",
        "\n",
        "    print(\"Grid dim: \", blocks_in_grid)\n",
        "    print(\"Block dim: \", threads_in_block)\n",
        "\n",
        "    # CPU calculation\n",
        "    start_time = time.time()\n",
        "    cpu_matmul_result = np.zeros((matrix_size, matrix_size), dtype=int)\n",
        "\n",
        "    matmul_CPU(matrix1, matrix2, cpu_matmul_result, matrix_size)\n",
        "\n",
        "    time_cpu = time.time() - start_time\n",
        "\n",
        "    print(\"CPU calculation time: \", time_cpu)\n",
        "\n",
        "    # GPU (CUDA) calculation\n",
        "    start_time = time.time()\n",
        "    gpu_matmul_result = cuda.device_array((len(matrix1), len(matrix2)))\n",
        "\n",
        "    matmul_GPU[blocks_in_grid, threads_in_block](matrix1_cuda, matrix2_cuda, gpu_matmul_result, matrix_size)\n",
        "\n",
        "    time_gpu = time.time() - start_time\n",
        "\n",
        "    print(\"GPU calculation time: \", time_gpu)\n",
        "\n",
        "    print(\"Boost: \", time_cpu / time_gpu)\n",
        "\n",
        "    print(\"Matriсes from CPU and GPU are equal: \", np.allclose(cpu_matmul_result, gpu_matmul_result))"
      ]
    }
  ]
}
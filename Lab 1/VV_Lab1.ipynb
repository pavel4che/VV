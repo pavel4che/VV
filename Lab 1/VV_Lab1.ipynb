{
  "nbformat": 4,
  "nbformat_minor": 0,
  "metadata": {
    "colab": {
      "provenance": []
    },
    "kernelspec": {
      "name": "python3",
      "display_name": "Python 3"
    },
    "language_info": {
      "name": "python"
    },
    "accelerator": "GPU",
    "gpuClass": "standard"
  },
  "cells": [
    {
      "cell_type": "code",
      "execution_count": 1,
      "metadata": {
        "id": "MIP0v9pracEl"
      },
      "outputs": [],
      "source": [
        "from numba import cuda, int32\n",
        "import numba\n",
        "import time\n",
        "import numpy as np"
      ]
    },
    {
      "cell_type": "code",
      "source": [
        "threads_per_block = 32"
      ],
      "metadata": {
        "id": "9mYI99m-ambB"
      },
      "execution_count": 2,
      "outputs": []
    },
    {
      "cell_type": "code",
      "source": [
        "\n",
        "@cuda.jit\n",
        "def GPU_sum(vector, result):\n",
        "    buffer = cuda.shared.array(threads_per_block, dtype=int32)\n",
        "\n",
        "    idx = cuda.threadIdx.x + cuda.blockIdx.x * threads_per_block\n",
        "\n",
        "    buffer[cuda.threadIdx.x] = 0\n",
        "\n",
        "    if idx < vector.shape[0]:\n",
        "        buffer[cuda.threadIdx.x] = vector[idx]\n",
        "\n",
        "        cuda.syncthreads()\n",
        "        if cuda.threadIdx.x == 0:\n",
        "            sum = 0\n",
        "            for i in range(threads_per_block):\n",
        "                sum += buffer[i]\n",
        "            cuda.atomic.add(result, 0, sum)\n",
        "\n",
        "\n",
        "def CPU_sum(vector):\n",
        "    return np.sum(vector)\n",
        "\n"
      ],
      "metadata": {
        "id": "ITriHv_Tarrd"
      },
      "execution_count": 3,
      "outputs": []
    },
    {
      "cell_type": "code",
      "source": [
        "def perform_vector_sum(vector_size):\n",
        "    vector = np.random.randint(-10, 10, vector_size)\n",
        "    result = np.zeros(1, dtype=np.int32)\n",
        "\n",
        "    # print(\"Input vector: \", vector)\n",
        "\n",
        "    print(\"CPU calculation:\")\n",
        "\n",
        "    start_time_CPU = time.time()\n",
        "    CPU_result = CPU_sum(vector)\n",
        "    result_time_CPU = time.time() - start_time_CPU\n",
        "\n",
        "    # print(\"Result CPU : \", CPU_result)\n",
        "    print(\"Time CPU: \", result_time_CPU)\n",
        "\n",
        "    print(\"_________________________________________________________\")\n",
        "\n",
        "    print(\"GPU calculation: \")\n",
        "\n",
        "    GPU_vector = cuda.to_device(vector)\n",
        "    GPU_for_res = cuda.to_device(result)\n",
        "\n",
        "    start_time_GPU = time.time()\n",
        "    GPU_sum[threads_per_block, threads_per_block](GPU_vector, GPU_for_res)\n",
        "    result_time_GPU = time.time() - start_time_GPU\n",
        "\n",
        "    result_GPU = GPU_for_res.copy_to_host()\n",
        "\n",
        "    # print(\"Result GPU : \", result_GPU)\n",
        "    print(\"Time GPU: \", result_time_GPU)"
      ],
      "metadata": {
        "id": "D5l622Qeautt"
      },
      "execution_count": 4,
      "outputs": []
    },
    {
      "cell_type": "code",
      "source": [
        "vector_size = 10000\n",
        "perform_vector_sum(vector_size)"
      ],
      "metadata": {
        "colab": {
          "base_uri": "https://localhost:8080/"
        },
        "id": "xsf8Xjhpa27t",
        "outputId": "bc225053-771d-4395-df71-089b98066b43"
      },
      "execution_count": 6,
      "outputs": [
        {
          "output_type": "stream",
          "name": "stdout",
          "text": [
            "CPU calculation:\n",
            "Time CPU:  0.00018978118896484375\n",
            "_________________________________________________________\n",
            "GPU calculation: \n",
            "Time GPU:  0.00021195411682128906\n"
          ]
        }
      ]
    },
    {
      "cell_type": "code",
      "source": [],
      "metadata": {
        "id": "sZ25GKNpa67t"
      },
      "execution_count": null,
      "outputs": []
    }
  ]
}